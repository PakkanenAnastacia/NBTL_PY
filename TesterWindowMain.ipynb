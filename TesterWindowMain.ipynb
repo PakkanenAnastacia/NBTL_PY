{
 "cells": [
  {
   "cell_type": "raw",
   "id": "e41187c7-2d58-4015-9542-efa9e4931f73",
   "metadata": {},
   "source": [
    "Lets test what do we have to do with jupyter and QT5"
   ]
  },
  {
   "cell_type": "raw",
   "id": "166f3787-8f92-42b3-ab10-e77722da2348",
   "metadata": {},
   "source": [
    "This tests the FileHandler Library"
   ]
  },
  {
   "cell_type": "code",
   "execution_count": 1,
   "id": "8ea6d271-c2b5-46f8-9aa5-a4aab2adf6d3",
   "metadata": {},
   "outputs": [],
   "source": [
    "from libs.file_handler import FileHandler\n",
    "import os"
   ]
  },
  {
   "cell_type": "code",
   "execution_count": 2,
   "id": "d9cd70f1-9d18-4d16-a2ce-6e3da93bd992",
   "metadata": {},
   "outputs": [
    {
     "name": "stdout",
     "output_type": "stream",
     "text": [
      "['mode', '400,400']\n",
      "False\n",
      "VAMOS MANAOOOOS!!\n",
      "\n",
      "False\n",
      "aguante el paco vieja, no me importas nadaaaaa\n",
      "\n",
      "True\n",
      "<class 'list'>\n",
      "['mode 400,400', 'VAMOS MANAOOOOS!!', 'aguante el paco vieja, no me importas nadaaaaa']\n"
     ]
    }
   ],
   "source": [
    "pointer = FileHandler()\n",
    "pointer.open_file(\"Pelela.nbtl\", \"w\")\n",
    "pointer.write(\"mode 400,400\")\n",
    "pointer.write([\"VAMOS MANAOOOOS!!\",\"aguante el paco vieja, no me importas nadaaaaa\"])\n",
    "pointer.close_file()\n",
    "\n",
    "pointer.open_file(\"Pelela.nbtl\", \"r\")\n",
    "ble = pointer.read_line()\n",
    "print(ble.split())\n",
    "print(pointer.is_end_of_file())\n",
    "ble = pointer.read_line()\n",
    "print(ble)\n",
    "print(pointer.is_end_of_file())\n",
    "ble = pointer.read_line()\n",
    "print(ble)\n",
    "print(pointer.is_end_of_file())\n",
    "pointer.close_file()\n",
    "\n",
    "pointer.open_file(\"Pelela.nbtl\", \"r\")\n",
    "total = pointer.read_whole_file()\n",
    "print(type(total))\n",
    "print(total)\n",
    "pointer.close_file()\n",
    "os.remove(\"Pelela.nbtl\")"
   ]
  },
  {
   "cell_type": "raw",
   "id": "8ba6a062-377f-420c-8ce5-53251dc061e5",
   "metadata": {},
   "source": [
    "Eso me muestra que el modulo en el que estaba trabajando los archivos funciona"
   ]
  },
  {
   "cell_type": "code",
   "execution_count": 3,
   "id": "28944961-8f25-4ea7-9494-29d79ac91858",
   "metadata": {},
   "outputs": [],
   "source": [
    "from libs.string_compressor import StringCompressor"
   ]
  },
  {
   "cell_type": "code",
   "execution_count": 4,
   "id": "f9af069c-d57a-432e-ac23-889b45ab5806",
   "metadata": {},
   "outputs": [
    {
     "name": "stdout",
     "output_type": "stream",
     "text": [
      "<class 'bytes'>\n",
      "b'x\\x9c\\x0bN,JLN,)\\xcdKOTH\\xcdS\\xc8IT\\xc8\\xcd\\xcf+I\\xcc\\xcbL\\x04\\x00\\x83\\x95\\t\\xc2'\n",
      "789c0b4e2c4a4c4e2c29cd4b4f5448cd53c84954c8cdcf2b49cccb4c0400839509c2\n",
      "Saracatunga en la montania\n"
     ]
    }
   ],
   "source": [
    "compressme = \"Saracatunga en la montania\"\n",
    "comp = StringCompressor.compress(compressme)\n",
    "print(type(comp))\n",
    "print(comp)\n",
    "print(comp.hex())\n",
    "ret = StringCompressor.decompress(comp)\n",
    "print(ret)"
   ]
  },
  {
   "cell_type": "raw",
   "id": "91f5f548-ff4b-42c1-89a1-e9f6bdabfafe",
   "metadata": {},
   "source": [
    "Ahora vamos a ver el screen capturer"
   ]
  },
  {
   "cell_type": "code",
   "execution_count": 5,
   "id": "5e5795b6-e51a-4b6b-ab27-7cdc3333a12e",
   "metadata": {},
   "outputs": [],
   "source": [
    "from libs.screen_capture import  RecorderTypes\n",
    "from libs.screen_capture import  ResolutionValues\n",
    "from libs.screen_capture import  ScreenCapture"
   ]
  },
  {
   "cell_type": "code",
   "execution_count": 6,
   "id": "4afbe8d4-07bc-4c9b-ae47-55ffd8e6b408",
   "metadata": {},
   "outputs": [
    {
     "name": "stdout",
     "output_type": "stream",
     "text": [
      "1\n",
      "Original size:\n",
      "(1920, 1080)\n",
      "Relatable sizes:\n",
      "(640, 480)\n",
      "(1024, 768)\n",
      "(1280, 720)\n",
      "(1280, 800)\n",
      "(1280, 1024)\n",
      "(1440, 900)\n",
      "(1600, 1200)\n",
      "(1920, 1080)\n",
      "(1920, 1200)\n",
      "(2048, 1080)\n",
      "(3840, 2160)\n",
      "Resoution size recognized\n",
      "Press enter to TRY take a screenshot in 400/200\n"
     ]
    },
    {
     "name": "stdin",
     "output_type": "stream",
     "text": [
      " \n"
     ]
    },
    {
     "name": "stdout",
     "output_type": "stream",
     "text": [
      "The resolution is not in the supported ranges!\n",
      "Press enter to TRY take a screenshot in the native resolution\n"
     ]
    },
    {
     "name": "stdin",
     "output_type": "stream",
     "text": [
      " \n"
     ]
    },
    {
     "name": "stdout",
     "output_type": "stream",
     "text": [
      "Result 789cec7c57d3a34816e50fe2016ff48811de090f6f58e14178f8f5cb575d33edaa7baa776322f66114515509053733af39e7...\n",
      "<class 'str'>\n",
      "It worked :D\n"
     ]
    }
   ],
   "source": [
    "    ind = RecorderTypes.list_labels().index('NonBullShiet') # => [1, 3]\n",
    "    print(str(ind))\n",
    "\n",
    "    print('Original size:')\n",
    "    original_size = ScreenCapture.get_original_size()\n",
    "    print(original_size)\n",
    "    print('Relatable sizes:')\n",
    "    el = ResolutionValues.list_values()\n",
    "    for e in el:\n",
    "        print(e)\n",
    "    capturer = ScreenCapture()\n",
    "    if original_size in el:\n",
    "        print(\"Resoution size recognized\")\n",
    "        \n",
    "    print('Press enter to TRY take a screenshot in 400/200')\n",
    "    input('')\n",
    "    try:\n",
    "        capturer.set_size(400, 200)\n",
    "    except Exception as ex:\n",
    "        print(ex)\n",
    " \n",
    "    print('Press enter to TRY take a screenshot in the native resolution')\n",
    "    input('')\n",
    "    try:\n",
    "        capturer.set_size_tuple(original_size)\n",
    "    except Exception as ex:\n",
    "        print(ex)\n",
    "    \n",
    "    shotenc = capturer.take_compressed_encoded_shot()\n",
    "    print(\"Result \"+ shotenc[0:100] + \"...\")\n",
    "    print(type(shotenc))\n",
    "    img = ScreenCapture.decode_encoded_compressed_shot(shotenc)\n",
    "    img.save('./testScreenshot.jpeg')\n",
    "    print('It worked :D')"
   ]
  },
  {
   "cell_type": "raw",
   "id": "f8fbbaff-15cf-46e0-80ac-f6213eb1a70f",
   "metadata": {},
   "source": [
    "Lets test the lapser redorder"
   ]
  },
  {
   "cell_type": "code",
   "execution_count": 7,
   "id": "877550a9-4323-45ea-9a0e-2c23f88221ac",
   "metadata": {},
   "outputs": [],
   "source": [
    "from libs.lapser_recorder import TimeLapseRecorder"
   ]
  },
  {
   "cell_type": "code",
   "execution_count": 8,
   "id": "fee3214c-34f5-4536-a96f-c824ab7cb1cf",
   "metadata": {},
   "outputs": [
    {
     "name": "stdout",
     "output_type": "stream",
     "text": [
      "Recording started!\n"
     ]
    },
    {
     "name": "stdin",
     "output_type": "stream",
     "text": [
      "Write 'kill' to terminate the hooks, 'pp' to pause, unpause, write 'exit' and ill quit the program: \n",
      " kill\n"
     ]
    },
    {
     "name": "stdout",
     "output_type": "stream",
     "text": [
      "Recording stopped!\n",
      "listeners killed\n"
     ]
    },
    {
     "name": "stdin",
     "output_type": "stream",
     "text": [
      "Write 'kill' to terminate the hooks, 'pp' to pause, unpause, write 'exit' and ill quit the program: \n",
      " exit\n"
     ]
    },
    {
     "name": "stdout",
     "output_type": "stream",
     "text": [
      "Main all done\n"
     ]
    }
   ],
   "source": [
    "    recorder = TimeLapseRecorder(1)\n",
    "    handler = FileHandler()\n",
    "    handler.open_file(\"NBSTL.nbtl\", \"w+\")\n",
    "    handler.write(\"lapser_test\")\n",
    "    handler.write(\"0 1\")\n",
    "    handler.write(\"1920 1080\")\n",
    "    recorder.configure_recorder(handler, 1920, 1080)\n",
    "    recorder.start_recording()\n",
    "    recorder.pause_switch()\n",
    "    while True:\n",
    "        coso = input(\n",
    "            \"Write 'kill' to terminate the hooks, 'pp' to pause, unpause, write 'exit' and ill quit the program: \\n\")\n",
    "        if coso == 'kill':\n",
    "            recorder.stop_recording()\n",
    "            print('listeners killed')\n",
    "        elif coso == \"pp\":\n",
    "            recorder.pause_switch();\n",
    "            if recorder.is_paused:\n",
    "                print(\"Recording paused\")\n",
    "            else:\n",
    "                print(\"Recording unpaused\")\n",
    "        elif coso == 'exit':\n",
    "            break\n",
    "    print(\"Main all done\")\n"
   ]
  },
  {
   "cell_type": "raw",
   "id": "85ffc396-bdda-4711-93aa-500de0a4eb08",
   "metadata": {},
   "source": [
    "This teste once the recording is done"
   ]
  },
  {
   "cell_type": "code",
   "execution_count": 9,
   "id": "f0387c6a-7971-4169-8763-78f1d54c80ee",
   "metadata": {},
   "outputs": [],
   "source": [
    "from libs.video_compiler import VideoCompiler    "
   ]
  },
  {
   "cell_type": "code",
   "execution_count": 10,
   "id": "442af602-967b-498f-b40d-1865fca57edd",
   "metadata": {},
   "outputs": [
    {
     "name": "stdout",
     "output_type": "stream",
     "text": [
      "lets asume that i have a file with a recording...\n",
      "Calculating...\n",
      "Set up complete...\n"
     ]
    },
    {
     "name": "stdin",
     "output_type": "stream",
     "text": [
      "Continue? \n"
     ]
    },
    {
     "name": "stdout",
     "output_type": "stream",
     "text": [
      "Project compiled!\n"
     ]
    }
   ],
   "source": [
    "    print(\"lets asume that i have a file with a recording...\")\n",
    "    comp = VideoCompiler()\n",
    "    comp.configure_compiler(2, \"NBSTL.nbtl\")\n",
    "    input(\"Continue?\")\n",
    "    comp.compile_file()"
   ]
  },
  {
   "cell_type": "raw",
   "id": "badb2853-9e64-44e5-b189-6b831b1fca58",
   "metadata": {},
   "source": [
    "Testing the event recorder..."
   ]
  },
  {
   "cell_type": "code",
   "execution_count": 11,
   "id": "5eeefc02-4479-40bf-b185-3f246fddcf92",
   "metadata": {},
   "outputs": [],
   "source": [
    "from libs.event_recorder import EventRecorder"
   ]
  },
  {
   "cell_type": "code",
   "execution_count": 12,
   "id": "0dac02dd-3034-4810-b2d3-d17f1c0b39fa",
   "metadata": {},
   "outputs": [
    {
     "name": "stdout",
     "output_type": "stream",
     "text": [
      "Recording started!\n"
     ]
    },
    {
     "name": "stdin",
     "output_type": "stream",
     "text": [
      "Write 'kill' to terminate the hooks, 'pp' to pause, unpause, write 'exit' and ill quit the program: \n",
      " kill\n"
     ]
    },
    {
     "name": "stdout",
     "output_type": "stream",
     "text": [
      "Recording stopped!\n",
      "listeners killed\n"
     ]
    },
    {
     "name": "stdin",
     "output_type": "stream",
     "text": [
      "Write 'kill' to terminate the hooks, 'pp' to pause, unpause, write 'exit' and ill quit the program: \n",
      " exit\n"
     ]
    },
    {
     "name": "stdout",
     "output_type": "stream",
     "text": [
      "Main all done\n"
     ]
    }
   ],
   "source": [
    "    recorder = EventRecorder()\n",
    "    handler = FileHandler()\n",
    "    handler.open_file(\"NBSTEV.nbtl\", \"w+\")\n",
    "    handler.write(\"eventer_test\")\n",
    "    handler.write(\"0 1\")\n",
    "    handler.write(\"1920 1080\")\n",
    "    recorder.configure_recorder(handler, 1920, 1080)\n",
    "    recorder.start_recording()\n",
    "    recorder.pause_switch()\n",
    "    while True:\n",
    "        coso = input(\n",
    "            \"Write 'kill' to terminate the hooks, 'pp' to pause, unpause, write 'exit' and ill quit the program: \\n\")\n",
    "        if coso == 'kill':\n",
    "            recorder.stop_recording()\n",
    "            print('listeners killed')\n",
    "        elif coso == \"pp\":\n",
    "            recorder.pause_switch();\n",
    "            if recorder.is_paused:\n",
    "                print(\"Recording paused\")\n",
    "            else:\n",
    "                print(\"Recording unpaused\")\n",
    "        elif coso == 'exit':\n",
    "            break\n",
    "    print(\"Main all done\")\n",
    "\n"
   ]
  },
  {
   "cell_type": "raw",
   "id": "7fd7cb62-7242-41fa-9747-8ea09fd90fdb",
   "metadata": {},
   "source": [
    "Provemos la decompilacion del que salio por eventos"
   ]
  },
  {
   "cell_type": "code",
   "execution_count": 14,
   "id": "ebbe43c8-e6f1-4fac-af7e-ef20ea763fc0",
   "metadata": {},
   "outputs": [
    {
     "name": "stdout",
     "output_type": "stream",
     "text": [
      "lets asume that i have a file with a recording...\n",
      "Calculating...\n",
      "Set up complete...\n"
     ]
    },
    {
     "name": "stdin",
     "output_type": "stream",
     "text": [
      "Continue? \n"
     ]
    },
    {
     "name": "stdout",
     "output_type": "stream",
     "text": [
      "Project compiled!\n"
     ]
    }
   ],
   "source": [
    "    print(\"lets asume that i have a file with a recording...\")\n",
    "    comp = VideoCompiler()\n",
    "    comp.configure_compiler(2, \"NBSTEV.nbtl\")\n",
    "    input(\"Continue?\")\n",
    "    comp.compile_file()"
   ]
  }
 ],
 "metadata": {
  "kernelspec": {
   "display_name": "Python 3",
   "language": "python",
   "name": "python3"
  },
  "language_info": {
   "codemirror_mode": {
    "name": "ipython",
    "version": 3
   },
   "file_extension": ".py",
   "mimetype": "text/x-python",
   "name": "python",
   "nbconvert_exporter": "python",
   "pygments_lexer": "ipython3",
   "version": "3.8.5"
  }
 },
 "nbformat": 4,
 "nbformat_minor": 5
}
