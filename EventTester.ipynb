{
 "cells": [
  {
   "cell_type": "raw",
   "id": "f5d9d77e-7a57-4561-a501-727c49e8e805",
   "metadata": {},
   "source": [
    "Vamos a probar crear esta clase sola"
   ]
  },
  {
   "cell_type": "code",
   "execution_count": 10,
   "id": "12b5a5af-046f-4e9c-b1d3-a4c49132846a",
   "metadata": {},
   "outputs": [],
   "source": [
    "import cv2\n",
    "from libs.file_handler import FileHandler\n",
    "from libs.screen_capture import ScreenCapture\n",
    "import numpy as np\n",
    "import os\n",
    "\n",
    "\n",
    "# noinspection SpellCheckingInspection\n",
    "class VideoCompiler:\n",
    "    \"\"\"\n",
    "    This class takes a NBLT file and creates a video file from it\n",
    "    \"\"\"\n",
    "\n",
    "    def __init__(self):\n",
    "        self.frame_rate: int = 0\n",
    "        self.configured: bool = False\n",
    "        self.file_handler: FileHandler = FileHandler()\n",
    "        self.project_name: str = \"\"\n",
    "        self.frame_size: (int, int) = None\n",
    "\n",
    "    def configure_compiler(self, frame_rate: int, filename: str) -> None:\n",
    "        \"\"\"\n",
    "        Configures the video compiler\n",
    "        :param frame_rate:\n",
    "        Frame rate of the vido file, need to be bigger tha 0 and smaller than 30\n",
    "        :param filename:\n",
    "        The path to the file that needs to be compiled\n",
    "        \"\"\"\n",
    "        if frame_rate <= 0 or frame_rate > 30:\n",
    "            raise Exception(\"Frame rates can't be negative or bigger than 30, what kind of vomit vision you want?\")\n",
    "        self.frame_rate = frame_rate\n",
    "\n",
    "        if not os.path.isfile(filename):\n",
    "            raise Exception(\"You are trying to access a file that does not exist...\")\n",
    "\n",
    "        self.file_handler.open_file(filename, \"r\")\n",
    "        print(\"Calculating...\")\n",
    "        # reads the first line to get the configuration\n",
    "        self.project_name = self.file_handler.read_line()[:-1]  # first doesnt matter\n",
    "        self.file_handler.read_line()  # first doesnt matter\n",
    "        frame = self.file_handler.read_line().split()  # the second has the resolution\n",
    "        self.frame_size = (int(frame[0]), int(frame[1]))\n",
    "        self.configured = True\n",
    "        print(\"Set up complete...\")\n",
    "\n",
    "    def compile_file(self) -> None:\n",
    "        \"\"\"\n",
    "        This takes a file, decompiles it and makes a video out of it.\n",
    "        \"\"\"\n",
    "        if not self.configured:\n",
    "            raise Exception(\"ImageCompiler not configured!\")\n",
    "        out = cv2.VideoWriter(self.project_name + '.mp4', cv2.VideoWriter_fourcc(*'MP4V'), self.frame_rate,\n",
    "                              self.frame_size)\n",
    "        while not self.file_handler.is_end_of_file():\n",
    "            to_buff = self.file_handler.read_line()\n",
    "            img = ScreenCapture.decode_encoded_compressed_shot(to_buff)\n",
    "            matrix = np.array(img)\n",
    "            inter = cv2.cvtColor(matrix, cv2.COLOR_BGR2RGB)\n",
    "            out.write(inter)\n",
    "        out.release()\n",
    "        self.file_handler.close_file()\n",
    "        print(\"Project compiled!\")\n",
    "        return\n"
   ]
  },
  {
   "cell_type": "code",
   "execution_count": 11,
   "id": "9587266d-225a-4189-b7db-6688426a8bdf",
   "metadata": {},
   "outputs": [
    {
     "name": "stdout",
     "output_type": "stream",
     "text": [
      "lets asume that i have a file with a recording...\n",
      "Calculating...\n",
      "Set up complete...\n"
     ]
    },
    {
     "name": "stdin",
     "output_type": "stream",
     "text": [
      "Continue? \n"
     ]
    },
    {
     "name": "stdout",
     "output_type": "stream",
     "text": [
      "Project compiled!\n"
     ]
    }
   ],
   "source": [
    "    print(\"lets asume that i have a file with a recording...\")\n",
    "    comp = VideoCompiler()\n",
    "    comp.configure_compiler(2, \"NBSTEV.nbtl\")\n",
    "    input(\"Continue?\")\n",
    "    comp.compile_file()"
   ]
  },
  {
   "cell_type": "code",
   "execution_count": null,
   "id": "caf6873d-0fac-473c-8b70-ec6071be2868",
   "metadata": {},
   "outputs": [],
   "source": []
  }
 ],
 "metadata": {
  "kernelspec": {
   "display_name": "Python 3",
   "language": "python",
   "name": "python3"
  },
  "language_info": {
   "codemirror_mode": {
    "name": "ipython",
    "version": 3
   },
   "file_extension": ".py",
   "mimetype": "text/x-python",
   "name": "python",
   "nbconvert_exporter": "python",
   "pygments_lexer": "ipython3",
   "version": "3.8.5"
  }
 },
 "nbformat": 4,
 "nbformat_minor": 5
}
