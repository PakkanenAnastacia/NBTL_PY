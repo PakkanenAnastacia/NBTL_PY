{
 "cells": [
  {
   "cell_type": "raw",
   "id": "f11fd09d-d523-45c2-a2c9-a447dfe4d65b",
   "metadata": {},
   "source": [
    "This will be to test how can i minimize to trail an app with QT5"
   ]
  },
  {
   "cell_type": "code",
   "execution_count": 1,
   "id": "3f9267d7-16b5-435a-8c01-518bcea014de",
   "metadata": {},
   "outputs": [
    {
     "ename": "SystemExit",
     "evalue": "0",
     "output_type": "error",
     "traceback": [
      "An exception has occurred, use %tb to see the full traceback.\n",
      "\u001b[0;31mSystemExit\u001b[0m\u001b[0;31m:\u001b[0m 0\n"
     ]
    },
    {
     "name": "stderr",
     "output_type": "stream",
     "text": [
      "/home/anastacia/PycharmProjects/NBTL/venv/lib/python3.8/site-packages/IPython/core/interactiveshell.py:3449: UserWarning: To exit: use 'exit', 'quit', or Ctrl-D.\n",
      "  warn(\"To exit: use 'exit', 'quit', or Ctrl-D.\", stacklevel=1)\n"
     ]
    }
   ],
   "source": [
    "import sys\n",
    "\n",
    "from PyQt5.QtWidgets import (\n",
    "    QApplication, QMainWindow,\n",
    "    QLabel, QGridLayout, QWidget,\n",
    "    QCheckBox, QSystemTrayIcon,\n",
    "    QSpacerItem, QSizePolicy, QMenu, QAction, QStyle, qApp)\n",
    "from PyQt5.QtCore import QSize\n",
    "\n",
    "\n",
    "class MainWindow(QMainWindow):\n",
    "    \"\"\"\n",
    "         Сheckbox and system tray icons.\n",
    "         Will initialize in the constructor.\n",
    "    \"\"\"\n",
    "    check_box = None\n",
    "    tray_icon = None\n",
    "\n",
    "    # Override the class constructor\n",
    "    def __init__(self):\n",
    "        # Be sure to call the super class method\n",
    "        QMainWindow.__init__(self)\n",
    "\n",
    "        self.setMinimumSize(QSize(480, 80))             # Set sizes\n",
    "        self.setWindowTitle(\"System Tray Application\")  # Set a title\n",
    "        # Create a central widget\n",
    "        central_widget = QWidget(self)\n",
    "        # Set the central widget\n",
    "        self.setCentralWidget(central_widget)\n",
    "\n",
    "        grid_layout = QGridLayout(self)         # Create a QGridLayout\n",
    "        # Set the layout into the central widget\n",
    "        central_widget.setLayout(grid_layout)\n",
    "        grid_layout.addWidget(\n",
    "            QLabel(\"Application, which can minimize to Tray\", self), 0, 0)\n",
    "\n",
    "        # Add a checkbox, which will depend on the behavior of the program when the window is closed\n",
    "        self.check_box = QCheckBox('Minimize to Tray')\n",
    "        grid_layout.addWidget(self.check_box, 1, 0)\n",
    "        grid_layout.addItem(QSpacerItem(\n",
    "            0, 0, QSizePolicy.Expanding, QSizePolicy.Expanding), 2, 0)\n",
    "\n",
    "        # Init QSystemTrayIcon\n",
    "        self.tray_icon = QSystemTrayIcon(self)\n",
    "        self.tray_icon.setIcon(\n",
    "            self.style().standardIcon(QStyle.SP_ComputerIcon))\n",
    "\n",
    "        '''\n",
    "            Define and add steps to work with the system tray icon\n",
    "            show - show window\n",
    "            hide - hide window\n",
    "            exit - exit from application\n",
    "        '''\n",
    "        show_action = QAction(\"Show\", self)\n",
    "        quit_action = QAction(\"Exit\", self)\n",
    "        hide_action = QAction(\"Hide\", self)\n",
    "        show_action.triggered.connect(self.show)\n",
    "        hide_action.triggered.connect(self.hide)\n",
    "        quit_action.triggered.connect(qApp.quit)\n",
    "        tray_menu = QMenu()\n",
    "        tray_menu.addAction(show_action)\n",
    "        tray_menu.addAction(hide_action)\n",
    "        tray_menu.addAction(quit_action)\n",
    "        self.tray_icon.setContextMenu(tray_menu)\n",
    "        self.tray_icon.show()\n",
    "\n",
    "    # Override closeEvent, to intercept the window closing event\n",
    "    # The window will be closed only if there is no check mark in the check box\n",
    "    def closeEvent(self, event):\n",
    "        if self.check_box.isChecked():\n",
    "            event.ignore()\n",
    "            self.hide()\n",
    "            self.tray_icon.showMessage(\n",
    "                \"Tray Program\",\n",
    "                \"Application was minimized to Tray\",\n",
    "                QSystemTrayIcon.Information,\n",
    "                2000\n",
    "            )\n",
    "\n",
    "\n",
    "app = QApplication(sys.argv)\n",
    "mw = MainWindow()\n",
    "mw.show()\n"
   ]
  },
  {
   "cell_type": "code",
   "execution_count": null,
   "id": "5f66eea8-94d4-4f02-a911-06ab6b3c207c",
   "metadata": {},
   "outputs": [],
   "source": []
  },
  {
   "cell_type": "code",
   "execution_count": null,
   "id": "57372b7b-d958-45ed-9f9e-f62fb5e6d4a7",
   "metadata": {},
   "outputs": [],
   "source": []
  }
 ],
 "metadata": {
  "kernelspec": {
   "display_name": "Python 3",
   "language": "python",
   "name": "python3"
  },
  "language_info": {
   "codemirror_mode": {
    "name": "ipython",
    "version": 3
   },
   "file_extension": ".py",
   "mimetype": "text/x-python",
   "name": "python",
   "nbconvert_exporter": "python",
   "pygments_lexer": "ipython3",
   "version": "3.8.5"
  }
 },
 "nbformat": 4,
 "nbformat_minor": 5
}
